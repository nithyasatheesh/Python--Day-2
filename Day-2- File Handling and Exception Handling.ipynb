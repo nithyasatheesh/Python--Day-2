{
 "cells": [
  {
   "cell_type": "markdown",
   "id": "3d82b143",
   "metadata": {},
   "source": [
    "-  **File Handling**\n",
    "-  **Exception Handling**"
   ]
  },
  {
   "cell_type": "markdown",
   "id": "ed157271",
   "metadata": {},
   "source": [
    "##### File Handling\n",
    "\n",
    "- Opening/Reading/appending/writing text files\n",
    "- Text vs Binary mode\n",
    "- Text and Binary files"
   ]
  },
  {
   "cell_type": "code",
   "execution_count": null,
   "id": "ffbd005b",
   "metadata": {},
   "outputs": [],
   "source": [
    "## Opening files in Python"
   ]
  },
  {
   "cell_type": "raw",
   "id": "e8019588",
   "metadata": {},
   "source": [
    "Mode\n",
    "\n",
    "r opens a file for reading\n",
    "\n",
    "w opens a file for writing\n",
    "\n",
    "a opens a file for appending at the end of the file\n",
    "\n",
    "t opens in text mode\n",
    "\n",
    "b opens in binary mode"
   ]
  },
  {
   "cell_type": "code",
   "execution_count": null,
   "id": "21662d59",
   "metadata": {},
   "outputs": [],
   "source": [
    "#open()"
   ]
  },
  {
   "cell_type": "code",
   "execution_count": null,
   "id": "a7e4af60",
   "metadata": {},
   "outputs": [],
   "source": [
    "#read()"
   ]
  },
  {
   "cell_type": "code",
   "execution_count": null,
   "id": "df0f8cd3",
   "metadata": {},
   "outputs": [],
   "source": [
    "#close()"
   ]
  },
  {
   "cell_type": "code",
   "execution_count": null,
   "id": "fd02f2ed",
   "metadata": {},
   "outputs": [],
   "source": [
    "#write()"
   ]
  },
  {
   "cell_type": "code",
   "execution_count": null,
   "id": "8f70e1a5",
   "metadata": {},
   "outputs": [],
   "source": []
  },
  {
   "cell_type": "code",
   "execution_count": null,
   "id": "4af5d02c",
   "metadata": {},
   "outputs": [],
   "source": []
  },
  {
   "cell_type": "code",
   "execution_count": null,
   "id": "474ea0d2",
   "metadata": {},
   "outputs": [],
   "source": []
  },
  {
   "cell_type": "code",
   "execution_count": null,
   "id": "321432ac",
   "metadata": {},
   "outputs": [],
   "source": []
  },
  {
   "cell_type": "markdown",
   "id": "d48e419e",
   "metadata": {},
   "source": [
    "##### with open()"
   ]
  },
  {
   "cell_type": "code",
   "execution_count": null,
   "id": "5596caee",
   "metadata": {},
   "outputs": [],
   "source": []
  },
  {
   "cell_type": "code",
   "execution_count": null,
   "id": "9a5c3279",
   "metadata": {},
   "outputs": [],
   "source": [
    "#f.readline()   # it reads single line\n",
    "    "
   ]
  },
  {
   "cell_type": "code",
   "execution_count": null,
   "id": "e7e549aa",
   "metadata": {},
   "outputs": [],
   "source": [
    "#f.readlines()   # it reads entire content\n",
    "    "
   ]
  },
  {
   "cell_type": "markdown",
   "id": "3f1aad3b",
   "metadata": {},
   "source": [
    "#### Exception handling"
   ]
  },
  {
   "cell_type": "markdown",
   "id": "fd558359",
   "metadata": {},
   "source": [
    "**Exception**: An exception is an event, which occurs during the execution of a program that disrupts the normal flow of the program's instructions. An object in Python that describes an error is called an exception.\n",
    "\n",
    "**Exceptions versus Syntax Errors**\n",
    "\n",
    "Syntax errors occur when the parser detects an incorrect statement\n",
    "\n",
    "Exception error is a type of error occurs whenever syntactically correct Python code results in an error."
   ]
  },
  {
   "cell_type": "markdown",
   "id": "eeec52f9",
   "metadata": {},
   "source": [
    "#### try and except  statements:  (else, finally-optional)\n",
    "\n",
    "- try: exception will be handled. test a block of code for errors\n",
    "- except: name of exception, additional msg.\n",
    "\n",
    "- else: block of code to be executed if no exceptions were found\n",
    "- finally: execute the result always."
   ]
  },
  {
   "cell_type": "code",
   "execution_count": null,
   "id": "68d26c66",
   "metadata": {},
   "outputs": [],
   "source": []
  },
  {
   "cell_type": "code",
   "execution_count": null,
   "id": "cd16cd40",
   "metadata": {},
   "outputs": [],
   "source": []
  },
  {
   "cell_type": "markdown",
   "id": "7e445ff5",
   "metadata": {},
   "source": [
    "#### Validating user age"
   ]
  },
  {
   "cell_type": "code",
   "execution_count": null,
   "id": "ec2326b0",
   "metadata": {},
   "outputs": [],
   "source": []
  },
  {
   "cell_type": "markdown",
   "id": "88f9a22a",
   "metadata": {},
   "source": [
    "#### validating email address format:"
   ]
  },
  {
   "cell_type": "code",
   "execution_count": null,
   "id": "97064229",
   "metadata": {},
   "outputs": [],
   "source": []
  },
  {
   "cell_type": "markdown",
   "id": "3fc625a6",
   "metadata": {},
   "source": [
    "#### reading file "
   ]
  },
  {
   "cell_type": "code",
   "execution_count": null,
   "id": "670f0f9d",
   "metadata": {},
   "outputs": [],
   "source": []
  }
 ],
 "metadata": {
  "kernelspec": {
   "display_name": "Python 3 (ipykernel)",
   "language": "python",
   "name": "python3"
  },
  "language_info": {
   "codemirror_mode": {
    "name": "ipython",
    "version": 3
   },
   "file_extension": ".py",
   "mimetype": "text/x-python",
   "name": "python",
   "nbconvert_exporter": "python",
   "pygments_lexer": "ipython3",
   "version": "3.9.13"
  }
 },
 "nbformat": 4,
 "nbformat_minor": 5
}
