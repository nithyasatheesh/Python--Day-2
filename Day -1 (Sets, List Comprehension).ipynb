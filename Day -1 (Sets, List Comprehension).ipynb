{
 "cells": [
  {
   "cell_type": "markdown",
   "id": "10a792a2",
   "metadata": {},
   "source": [
    "### Sets\n",
    "\n",
    "- Unordered sequence of elements\n",
    "- create it by using {} or set()\n",
    "- sets are immutable, iterable"
   ]
  },
  {
   "cell_type": "code",
   "execution_count": null,
   "id": "45daf02b",
   "metadata": {},
   "outputs": [],
   "source": []
  },
  {
   "cell_type": "code",
   "execution_count": null,
   "id": "e7eddf35",
   "metadata": {},
   "outputs": [],
   "source": []
  },
  {
   "cell_type": "code",
   "execution_count": null,
   "id": "c9d3d428",
   "metadata": {},
   "outputs": [],
   "source": [
    "# create set object of string values"
   ]
  },
  {
   "cell_type": "code",
   "execution_count": null,
   "id": "55558d1c",
   "metadata": {},
   "outputs": [],
   "source": [
    "# creae set object of list values"
   ]
  },
  {
   "cell_type": "code",
   "execution_count": null,
   "id": "7dd31f3c",
   "metadata": {},
   "outputs": [],
   "source": [
    "# removes duplicates"
   ]
  },
  {
   "cell_type": "code",
   "execution_count": null,
   "id": "80af4ab2",
   "metadata": {},
   "outputs": [],
   "source": []
  },
  {
   "cell_type": "code",
   "execution_count": null,
   "id": "deddbc91",
   "metadata": {},
   "outputs": [],
   "source": []
  },
  {
   "cell_type": "code",
   "execution_count": null,
   "id": "116f410d",
   "metadata": {},
   "outputs": [],
   "source": [
    "## add() method\n",
    "# add element in s2"
   ]
  },
  {
   "cell_type": "code",
   "execution_count": null,
   "id": "7bc607bd",
   "metadata": {},
   "outputs": [],
   "source": [
    "# update() method"
   ]
  },
  {
   "cell_type": "code",
   "execution_count": null,
   "id": "8cd99eda",
   "metadata": {},
   "outputs": [],
   "source": []
  },
  {
   "cell_type": "code",
   "execution_count": null,
   "id": "8a02000d",
   "metadata": {},
   "outputs": [],
   "source": []
  },
  {
   "cell_type": "markdown",
   "id": "5ad5c013",
   "metadata": {},
   "source": [
    "#### remove the elements\n",
    "- remove()\n",
    "- pop()\n",
    "- discard()"
   ]
  },
  {
   "cell_type": "code",
   "execution_count": null,
   "id": "ae6d496a",
   "metadata": {},
   "outputs": [],
   "source": []
  },
  {
   "cell_type": "code",
   "execution_count": null,
   "id": "8e6d348e",
   "metadata": {},
   "outputs": [],
   "source": []
  },
  {
   "cell_type": "code",
   "execution_count": null,
   "id": "ff868d01",
   "metadata": {},
   "outputs": [],
   "source": []
  },
  {
   "cell_type": "code",
   "execution_count": null,
   "id": "bc811ba3",
   "metadata": {},
   "outputs": [],
   "source": []
  },
  {
   "cell_type": "code",
   "execution_count": null,
   "id": "3c228a7a",
   "metadata": {},
   "outputs": [],
   "source": [
    "Difference : remove() and discard():discard() method remain unchanged if the element doen't exist\n",
    "                                   remove() method will throw an error if the element doesn't exist"
   ]
  },
  {
   "cell_type": "code",
   "execution_count": null,
   "id": "8719aac1",
   "metadata": {},
   "outputs": [],
   "source": []
  },
  {
   "cell_type": "code",
   "execution_count": null,
   "id": "9126dcd6",
   "metadata": {},
   "outputs": [],
   "source": []
  },
  {
   "cell_type": "markdown",
   "id": "790ed57d",
   "metadata": {},
   "source": [
    "### List Comprehension\n",
    "\n",
    "- single line for loop\n",
    "\n",
    "- syntax: [expresion for if(optional)]"
   ]
  },
  {
   "cell_type": "code",
   "execution_count": null,
   "id": "0e0cb6ed",
   "metadata": {},
   "outputs": [],
   "source": [
    "# list of square of elements"
   ]
  },
  {
   "cell_type": "code",
   "execution_count": null,
   "id": "6ba18988",
   "metadata": {},
   "outputs": [],
   "source": []
  },
  {
   "cell_type": "code",
   "execution_count": null,
   "id": "7da75d4f",
   "metadata": {},
   "outputs": [],
   "source": [
    "cities=['Delhi','Bangalore','Mumbai','Hyderabad']\n",
    "# create a list of elements which has length is greater than 6"
   ]
  },
  {
   "cell_type": "code",
   "execution_count": null,
   "id": "7b9588b4",
   "metadata": {},
   "outputs": [],
   "source": [
    "# create a list of elements which is greater that 5 in the given list l\n",
    "l=[4,7,8,9,23,56]"
   ]
  },
  {
   "cell_type": "code",
   "execution_count": null,
   "id": "847aede5",
   "metadata": {},
   "outputs": [],
   "source": [
    "# add value 5 to each element in the list l"
   ]
  },
  {
   "cell_type": "code",
   "execution_count": null,
   "id": "d779a40b",
   "metadata": {},
   "outputs": [],
   "source": []
  },
  {
   "cell_type": "markdown",
   "id": "881ba714",
   "metadata": {},
   "source": [
    "### Hands-on-Problems"
   ]
  },
  {
   "cell_type": "code",
   "execution_count": null,
   "id": "22057a3c",
   "metadata": {},
   "outputs": [],
   "source": [
    "#Given a list of numbers, remove all odd numbers from the list:\n",
    "numbers = [3,5,45,97,32,22,10,19,39,43]"
   ]
  },
  {
   "cell_type": "code",
   "execution_count": null,
   "id": "00bba158",
   "metadata": {},
   "outputs": [],
   "source": [
    "#Given a list of numbers, remove floats (numbers with decimals)\n",
    "original_list = [2,3.75,.04,59.354,6,7.7777,8,9]"
   ]
  },
  {
   "cell_type": "code",
   "execution_count": null,
   "id": "164b0970",
   "metadata": {},
   "outputs": [],
   "source": [
    "'''Create a list from the elements of a range from 1200 to 2000 with steps of 130,\n",
    "using list comprehension.''"
   ]
  },
  {
   "cell_type": "code",
   "execution_count": null,
   "id": "add9fbb9",
   "metadata": {},
   "outputs": [],
   "source": [
    "#Using list comprehension, construct a list from the squares of each element in the list, \n",
    "#if the square is greater than 50."
   ]
  },
  {
   "cell_type": "markdown",
   "id": "536c57ca",
   "metadata": {},
   "source": [
    "Given dictionary is consisted of vehicles and their weights in kilograms. Construct a list of the names of vehicles with weight below 5000 kilograms. In the same list comprehension make the key names all upper case."
   ]
  },
  {
   "cell_type": "code",
   "execution_count": null,
   "id": "bc92b241",
   "metadata": {},
   "outputs": [],
   "source": []
  },
  {
   "cell_type": "code",
   "execution_count": null,
   "id": "5d247c56",
   "metadata": {},
   "outputs": [],
   "source": []
  }
 ],
 "metadata": {
  "kernelspec": {
   "display_name": "Python 3 (ipykernel)",
   "language": "python",
   "name": "python3"
  },
  "language_info": {
   "codemirror_mode": {
    "name": "ipython",
    "version": 3
   },
   "file_extension": ".py",
   "mimetype": "text/x-python",
   "name": "python",
   "nbconvert_exporter": "python",
   "pygments_lexer": "ipython3",
   "version": "3.9.13"
  }
 },
 "nbformat": 4,
 "nbformat_minor": 5
}
