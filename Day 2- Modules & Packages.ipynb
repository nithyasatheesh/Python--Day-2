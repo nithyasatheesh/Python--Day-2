{
 "cells": [
  {
   "cell_type": "markdown",
   "id": "6e7f7329",
   "metadata": {},
   "source": [
    "### Modules & Packages"
   ]
  },
  {
   "cell_type": "markdown",
   "id": "edca5b4b",
   "metadata": {},
   "source": [
    "A Python module is a file containing Python definitions and statements. \n",
    "A module can define functions, classes, and variables. \n",
    "A module can also include runnable code. \n",
    "Grouping related code into a module makes the code easier to understand and use. \n",
    "It also makes the code logically organized."
   ]
  },
  {
   "cell_type": "markdown",
   "id": "3f7d2151",
   "metadata": {},
   "source": [
    "Packages allow you to organize modules in the hierarchical structure.\n",
    "\n",
    "The way Python organizes packages and modules like the Operating System structures the folders and files."
   ]
  },
  {
   "cell_type": "markdown",
   "id": "46b3b183",
   "metadata": {},
   "source": [
    "#### .py extension\n",
    "#### the module contains,\n",
    "  - Definitions and implementation of classes\n",
    "  \n",
    "  - variables\n",
    "    \n",
    "  - Functions that can be used inside another program  "
   ]
  },
  {
   "cell_type": "markdown",
   "id": "b8bc97d4",
   "metadata": {},
   "source": [
    "##### To import a package, you use the import statement like this:\n",
    "\n",
    "import package.module\n",
    "\n",
    "##### To access an object from a module that belongs to a package, you use the dot notation:\n",
    "\n",
    "package.module.function\n",
    "\n",
    "##### To make the code more concise, you can use the following statement to import a function \n",
    "##### from a module:\n",
    "\n",
    "from <module> import <function>"
   ]
  },
  {
   "cell_type": "code",
   "execution_count": null,
   "id": "35265a69",
   "metadata": {},
   "outputs": [],
   "source": [
    "#### Create a module"
   ]
  },
  {
   "cell_type": "code",
   "execution_count": null,
   "id": "d7d4ab22",
   "metadata": {},
   "outputs": [],
   "source": [
    "#### create a file with extension .py\n",
    "### create mymodule.py"
   ]
  },
  {
   "cell_type": "code",
   "execution_count": null,
   "id": "0e18e9a7",
   "metadata": {},
   "outputs": [],
   "source": [
    "# using 'import'keyword to import module\n"
   ]
  },
  {
   "cell_type": "code",
   "execution_count": null,
   "id": "2a3af9c8",
   "metadata": {},
   "outputs": [],
   "source": [
    "# create newmodule.py\n"
   ]
  },
  {
   "cell_type": "code",
   "execution_count": null,
   "id": "6ca3b8e6",
   "metadata": {},
   "outputs": [],
   "source": [
    "# create mymodule2\n"
   ]
  },
  {
   "cell_type": "code",
   "execution_count": null,
   "id": "b23ed1b0",
   "metadata": {},
   "outputs": [],
   "source": []
  },
  {
   "cell_type": "code",
   "execution_count": null,
   "id": "dfb981e9",
   "metadata": {},
   "outputs": [],
   "source": [
    "### Built - in - Modules"
   ]
  },
  {
   "cell_type": "code",
   "execution_count": null,
   "id": "4dda17b2",
   "metadata": {},
   "outputs": [],
   "source": [
    "help('modules')"
   ]
  },
  {
   "cell_type": "code",
   "execution_count": null,
   "id": "5e9d1e54",
   "metadata": {},
   "outputs": [],
   "source": [
    "# math \n",
    "# statistics\n",
    "# os\n",
    "# random"
   ]
  },
  {
   "cell_type": "code",
   "execution_count": null,
   "id": "21fe7e75",
   "metadata": {},
   "outputs": [],
   "source": [
    "#math\n"
   ]
  },
  {
   "cell_type": "code",
   "execution_count": null,
   "id": "99060073",
   "metadata": {},
   "outputs": [],
   "source": [
    "# statistics\n"
   ]
  },
  {
   "cell_type": "code",
   "execution_count": null,
   "id": "7b6299f3",
   "metadata": {},
   "outputs": [],
   "source": []
  },
  {
   "cell_type": "code",
   "execution_count": null,
   "id": "5571ec4e",
   "metadata": {},
   "outputs": [],
   "source": [
    "# os\n",
    "\n",
    "#view working directory\n"
   ]
  },
  {
   "cell_type": "code",
   "execution_count": null,
   "id": "3c67f413",
   "metadata": {},
   "outputs": [],
   "source": [
    "# changing working directory\n"
   ]
  },
  {
   "cell_type": "code",
   "execution_count": null,
   "id": "5b454961",
   "metadata": {},
   "outputs": [],
   "source": [
    "#make directory\n"
   ]
  },
  {
   "cell_type": "code",
   "execution_count": null,
   "id": "bd3e55dd",
   "metadata": {},
   "outputs": [],
   "source": [
    "#random\n",
    "\n",
    "#generate random floats\n"
   ]
  },
  {
   "cell_type": "code",
   "execution_count": null,
   "id": "6f635141",
   "metadata": {},
   "outputs": [],
   "source": [
    "# generate random integers\n"
   ]
  },
  {
   "cell_type": "code",
   "execution_count": null,
   "id": "99ce283d",
   "metadata": {},
   "outputs": [],
   "source": [
    "#select random elements\n"
   ]
  },
  {
   "cell_type": "code",
   "execution_count": null,
   "id": "7c47ffd7",
   "metadata": {},
   "outputs": [],
   "source": [
    "#generate random numbers within range\n",
    "\n",
    "# random.randrange(1,10) # by default skip =1--> contains all the numbers between 1 to 10."
   ]
  },
  {
   "cell_type": "code",
   "execution_count": null,
   "id": "3079b06f",
   "metadata": {},
   "outputs": [],
   "source": [
    "#### Modules Vs Packages"
   ]
  },
  {
   "cell_type": "markdown",
   "id": "1fbeec82",
   "metadata": {},
   "source": [
    "Module: The module is a simple Python file that contains collections of functions and global variables and with having a .py extension file. It is an executable file and to organize all the modules we have the concept called Package in Python.\n",
    "\n",
    "Package: The package is a simple directory having collections of modules. This directory contains Python modules and also having __init__.py file by which the interpreter interprets it as a Package. The package is simply a namespace. The package also contains sub-packages inside it."
   ]
  },
  {
   "cell_type": "code",
   "execution_count": null,
   "id": "04a1ec37",
   "metadata": {},
   "outputs": [],
   "source": [
    "#Create Package"
   ]
  },
  {
   "cell_type": "raw",
   "id": "867fab9d",
   "metadata": {},
   "source": [
    "Step:1 Create a folder/package MyPackage\n",
    "step 2: Save .py files in that folder\n",
    "step 3: create and save__init__.py file\n",
    "step 4: pip install package name\n",
    "step 5: import packagename\n",
    "step 7: from packagename import modulename\n",
    "    "
   ]
  },
  {
   "cell_type": "code",
   "execution_count": null,
   "id": "08ecaf64",
   "metadata": {},
   "outputs": [],
   "source": []
  },
  {
   "cell_type": "code",
   "execution_count": null,
   "id": "a1495ab9",
   "metadata": {},
   "outputs": [],
   "source": []
  },
  {
   "cell_type": "code",
   "execution_count": null,
   "id": "9b722396",
   "metadata": {},
   "outputs": [],
   "source": []
  },
  {
   "cell_type": "markdown",
   "id": "e713b45c",
   "metadata": {},
   "source": [
    "-------------------------------------------------- End ---------------------------------------------"
   ]
  }
 ],
 "metadata": {
  "kernelspec": {
   "display_name": "Python 3 (ipykernel)",
   "language": "python",
   "name": "python3"
  },
  "language_info": {
   "codemirror_mode": {
    "name": "ipython",
    "version": 3
   },
   "file_extension": ".py",
   "mimetype": "text/x-python",
   "name": "python",
   "nbconvert_exporter": "python",
   "pygments_lexer": "ipython3",
   "version": "3.9.13"
  }
 },
 "nbformat": 4,
 "nbformat_minor": 5
}
